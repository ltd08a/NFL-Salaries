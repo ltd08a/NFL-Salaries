{
 "cells": [
  {
   "cell_type": "code",
   "execution_count": 1,
   "id": "383b9fc3-b3e0-410a-aea9-b79fd05f4613",
   "metadata": {},
   "outputs": [],
   "source": [
    "# Function to convert team names\n",
    "def convert_team_name(name):\n",
    "    \"\"\"\n",
    "    Function that changes values in the 'Team' column and returns only the capitalized team name.\n",
    "\n",
    "    Parameters:\n",
    "    name (String): String containing team location and name.\n",
    "\n",
    "    Returns:\n",
    "    last (String): String containing capitalized team name.\n",
    "    \"\"\"\n",
    "    # Handle Washington Commanders specifically\n",
    "    if 'washington' in name.lower() or 'redskins' in name.lower() or 'team' in name.lower():\n",
    "        return 'Commanders'\n",
    "    \n",
    "    if '-' in name:\n",
    "        # Split into parts using hyphen as delimiter\n",
    "        parts = name.split('-')\n",
    "    else:\n",
    "        parts = name.split(' ')\n",
    "\n",
    "    # Capitalize the last part (team name)\n",
    "    last = parts[-1].title()\n",
    "    \n",
    "    return last"
   ]
  },
  {
   "cell_type": "code",
   "execution_count": 2,
   "id": "a0bfcba8-7d84-4393-b329-6426555a5ac7",
   "metadata": {},
   "outputs": [
    {
     "name": "stdout",
     "output_type": "stream",
     "text": [
      "Overwriting NFL_Functions.py\n"
     ]
    }
   ],
   "source": [
    "%%writefile NFL_Functions.py\n",
    "\n",
    "# Function to convert team names\n",
    "def convert_team_name(name):\n",
    "    \"\"\"\n",
    "    Function that changes values in the 'Team' column and returns only the capitalized team name.\n",
    "\n",
    "    Parameters:\n",
    "    name (String): String containing team location and name.\n",
    "\n",
    "    Returns:\n",
    "    last (String): String containing capitalized team name.\n",
    "    \"\"\"\n",
    "    # Handle Washington Commanders specifically\n",
    "    if 'washington' in name.lower() or 'redskins' in name.lower() or 'team' in name.lower():\n",
    "        return 'Commanders'\n",
    "    \n",
    "    if '-' in name:\n",
    "        # Split into parts using hyphen as delimiter\n",
    "        parts = name.split('-')\n",
    "    else:\n",
    "        parts = name.split(' ')\n",
    "\n",
    "    # Capitalize the last part (team name)\n",
    "    last = parts[-1].title()\n",
    "    \n",
    "    return last"
   ]
  }
 ],
 "metadata": {
  "kernelspec": {
   "display_name": "Python 3 (ipykernel)",
   "language": "python",
   "name": "python3"
  },
  "language_info": {
   "codemirror_mode": {
    "name": "ipython",
    "version": 3
   },
   "file_extension": ".py",
   "mimetype": "text/x-python",
   "name": "python",
   "nbconvert_exporter": "python",
   "pygments_lexer": "ipython3",
   "version": "3.9.19"
  }
 },
 "nbformat": 4,
 "nbformat_minor": 5
}
